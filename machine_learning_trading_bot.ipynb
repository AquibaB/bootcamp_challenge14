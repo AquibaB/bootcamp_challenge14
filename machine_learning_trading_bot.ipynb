{
 "cells": [
  {
   "cell_type": "markdown",
   "metadata": {},
   "source": [
    "# Machine Learning Trading Bot\n",
    "\n",
    "In this Challenge, you’ll assume the role of a financial advisor at one of the top five financial advisory firms in the world. Your firm constantly competes with the other major firms to manage and automatically trade assets in a highly dynamic environment. In recent years, your firm has heavily profited by using computer algorithms that can buy and sell faster than human traders.\n",
    "\n",
    "The speed of these transactions gave your firm a competitive advantage early on. But, people still need to specifically program these systems, which limits their ability to adapt to new data. You’re thus planning to improve the existing algorithmic trading systems and maintain the firm’s competitive advantage in the market. To do so, you’ll enhance the existing trading signals with machine learning algorithms that can adapt to new data.\n",
    "\n",
    "## Instructions:\n",
    "\n",
    "Use the starter code file to complete the steps that the instructions outline. The steps for this Challenge are divided into the following sections:\n",
    "\n",
    "* Establish a Baseline Performance\n",
    "\n",
    "* Tune the Baseline Trading Algorithm\n",
    "\n",
    "* Evaluate a New Machine Learning Classifier\n",
    "\n",
    "* Create an Evaluation Report\n",
    "\n",
    "#### Establish a Baseline Performance\n",
    "\n",
    "In this section, you’ll run the provided starter code to establish a baseline performance for the trading algorithm. To do so, complete the following steps.\n",
    "\n",
    "Open the Jupyter notebook. Restart the kernel, run the provided cells that correspond with the first three steps, and then proceed to step four. \n",
    "\n",
    "1. Import the OHLCV dataset into a Pandas DataFrame.\n",
    "\n",
    "2. Generate trading signals using short- and long-window SMA values. \n",
    "\n",
    "3. Split the data into training and testing datasets.\n",
    "\n",
    "4. Use the `SVC` classifier model from SKLearn's support vector machine (SVM) learning method to fit the training data and make predictions based on the testing data. Review the predictions.\n",
    "\n",
    "5. Review the classification report associated with the `SVC` model predictions. \n",
    "\n",
    "6. Create a predictions DataFrame that contains columns for “Predicted” values, “Actual Returns”, and “Strategy Returns”.\n",
    "\n",
    "7. Create a cumulative return plot that shows the actual returns vs. the strategy returns. Save a PNG image of this plot. This will serve as a baseline against which to compare the effects of tuning the trading algorithm.\n",
    "\n",
    "8. Write your conclusions about the performance of the baseline trading algorithm in the `README.md` file that’s associated with your GitHub repository. Support your findings by using the PNG image that you saved in the previous step.\n",
    "\n",
    "#### Tune the Baseline Trading Algorithm\n",
    "\n",
    "In this section, you’ll tune, or adjust, the model’s input features to find the parameters that result in the best trading outcomes. (You’ll choose the best by comparing the cumulative products of the strategy returns.) To do so, complete the following steps:\n",
    "\n",
    "1. Tune the training algorithm by adjusting the size of the training dataset. To do so, slice your data into different periods. Rerun the notebook with the updated parameters, and record the results in your `README.md` file. Answer the following question: What impact resulted from increasing or decreasing the training window?\n",
    "\n",
    "> **Hint** To adjust the size of the training dataset, you can use a different `DateOffset` value&mdash;for example, six months. Be aware that changing the size of the training dataset also affects the size of the testing dataset.\n",
    "\n",
    "2. Tune the trading algorithm by adjusting the SMA input features. Adjust one or both of the windows for the algorithm. Rerun the notebook with the updated parameters, and record the results in your `README.md` file. Answer the following question: What impact resulted from increasing or decreasing either or both of the SMA windows?\n",
    "\n",
    "3. Choose the set of parameters that best improved the trading algorithm returns. Save a PNG image of the cumulative product of the actual returns vs. the strategy returns, and document your conclusion in your `README.md` file.\n",
    "\n",
    "#### Evaluate a New Machine Learning Classifier\n",
    "\n",
    "In this section, you’ll use the original parameters that the starter code provided. But, you’ll apply them to the performance of a second machine learning model. To do so, complete the following steps:\n",
    "\n",
    "1. Import a new classifier, such as `AdaBoost`, `DecisionTreeClassifier`, or `LogisticRegression`. (For the full list of classifiers, refer to the [Supervised learning page](https://scikit-learn.org/stable/supervised_learning.html) in the scikit-learn documentation.)\n",
    "\n",
    "2. Using the original training data as the baseline model, fit another model with the new classifier.\n",
    "\n",
    "3. Backtest the new model to evaluate its performance. Save a PNG image of the cumulative product of the actual returns vs. the strategy returns for this updated trading algorithm, and write your conclusions in your `README.md` file. Answer the following questions: Did this new model perform better or worse than the provided baseline model? Did this new model perform better or worse than your tuned trading algorithm?\n",
    "\n",
    "#### Create an Evaluation Report\n",
    "\n",
    "In the previous sections, you updated your `README.md` file with your conclusions. To accomplish this section, you need to add a summary evaluation report at the end of the `README.md` file. For this report, express your final conclusions and analysis. Support your findings by using the PNG images that you created.\n"
   ]
  },
  {
   "cell_type": "code",
   "execution_count": 10,
   "metadata": {},
   "outputs": [],
   "source": [
    "# Imports\n",
    "import pandas as pd\n",
    "import numpy as np\n",
    "from pathlib import Path\n",
    "import hvplot.pandas\n",
    "import matplotlib.pyplot as plt\n",
    "from sklearn import svm\n",
    "from sklearn.preprocessing import StandardScaler\n",
    "from pandas.tseries.offsets import DateOffset\n",
    "from sklearn.metrics import classification_report\n",
    "%matplotlib inline"
   ]
  },
  {
   "cell_type": "markdown",
   "metadata": {},
   "source": [
    "---\n",
    "\n",
    "## Establish a Baseline Performance\n",
    "\n",
    "In this section, you’ll run the provided starter code to establish a baseline performance for the trading algorithm. To do so, complete the following steps.\n",
    "\n",
    "Open the Jupyter notebook. Restart the kernel, run the provided cells that correspond with the first three steps, and then proceed to step four. \n"
   ]
  },
  {
   "cell_type": "markdown",
   "metadata": {},
   "source": []
  },
  {
   "cell_type": "markdown",
   "metadata": {},
   "source": [
    "### Step 1: mport the OHLCV dataset into a Pandas DataFrame."
   ]
  },
  {
   "cell_type": "code",
   "execution_count": 3,
   "metadata": {},
   "outputs": [
    {
     "data": {
      "text/html": "<div>\n<style scoped>\n    .dataframe tbody tr th:only-of-type {\n        vertical-align: middle;\n    }\n\n    .dataframe tbody tr th {\n        vertical-align: top;\n    }\n\n    .dataframe thead th {\n        text-align: right;\n    }\n</style>\n<table border=\"1\" class=\"dataframe\">\n  <thead>\n    <tr style=\"text-align: right;\">\n      <th></th>\n      <th>open</th>\n      <th>high</th>\n      <th>low</th>\n      <th>close</th>\n      <th>volume</th>\n    </tr>\n    <tr>\n      <th>date</th>\n      <th></th>\n      <th></th>\n      <th></th>\n      <th></th>\n      <th></th>\n    </tr>\n  </thead>\n  <tbody>\n    <tr>\n      <th>2015-01-21 09:30:00</th>\n      <td>23.83</td>\n      <td>23.83</td>\n      <td>23.83</td>\n      <td>23.83</td>\n      <td>100</td>\n    </tr>\n    <tr>\n      <th>2015-01-21 11:00:00</th>\n      <td>23.98</td>\n      <td>23.98</td>\n      <td>23.98</td>\n      <td>23.98</td>\n      <td>100</td>\n    </tr>\n    <tr>\n      <th>2015-01-22 15:00:00</th>\n      <td>24.42</td>\n      <td>24.42</td>\n      <td>24.42</td>\n      <td>24.42</td>\n      <td>100</td>\n    </tr>\n    <tr>\n      <th>2015-01-22 15:15:00</th>\n      <td>24.42</td>\n      <td>24.44</td>\n      <td>24.42</td>\n      <td>24.44</td>\n      <td>200</td>\n    </tr>\n    <tr>\n      <th>2015-01-22 15:30:00</th>\n      <td>24.46</td>\n      <td>24.46</td>\n      <td>24.46</td>\n      <td>24.46</td>\n      <td>200</td>\n    </tr>\n  </tbody>\n</table>\n</div>",
      "text/plain": "                      open   high    low  close  volume\ndate                                                   \n2015-01-21 09:30:00  23.83  23.83  23.83  23.83     100\n2015-01-21 11:00:00  23.98  23.98  23.98  23.98     100\n2015-01-22 15:00:00  24.42  24.42  24.42  24.42     100\n2015-01-22 15:15:00  24.42  24.44  24.42  24.44     200\n2015-01-22 15:30:00  24.46  24.46  24.46  24.46     200"
     },
     "execution_count": 3,
     "metadata": {},
     "output_type": "execute_result"
    }
   ],
   "source": [
    "# Import the OHLCV dataset into a Pandas Dataframe\n",
    "ohlcv_df = pd.read_csv(\n",
    "    Path(\"./Resources/emerging_markets_ohlcv.csv\"), \n",
    "    index_col='date', \n",
    "    infer_datetime_format=True, \n",
    "    parse_dates=True\n",
    ")\n",
    "\n",
    "# Review the DataFrame\n",
    "ohlcv_df.head()"
   ]
  },
  {
   "cell_type": "code",
   "execution_count": 4,
   "metadata": {},
   "outputs": [
    {
     "data": {
      "text/html": "<div>\n<style scoped>\n    .dataframe tbody tr th:only-of-type {\n        vertical-align: middle;\n    }\n\n    .dataframe tbody tr th {\n        vertical-align: top;\n    }\n\n    .dataframe thead th {\n        text-align: right;\n    }\n</style>\n<table border=\"1\" class=\"dataframe\">\n  <thead>\n    <tr style=\"text-align: right;\">\n      <th></th>\n      <th>close</th>\n      <th>Actual Returns</th>\n    </tr>\n    <tr>\n      <th>date</th>\n      <th></th>\n      <th></th>\n    </tr>\n  </thead>\n  <tbody>\n    <tr>\n      <th>2015-01-21 11:00:00</th>\n      <td>23.98</td>\n      <td>0.006295</td>\n    </tr>\n    <tr>\n      <th>2015-01-22 15:00:00</th>\n      <td>24.42</td>\n      <td>0.018349</td>\n    </tr>\n    <tr>\n      <th>2015-01-22 15:15:00</th>\n      <td>24.44</td>\n      <td>0.000819</td>\n    </tr>\n    <tr>\n      <th>2015-01-22 15:30:00</th>\n      <td>24.46</td>\n      <td>0.000818</td>\n    </tr>\n    <tr>\n      <th>2015-01-26 12:30:00</th>\n      <td>24.33</td>\n      <td>-0.005315</td>\n    </tr>\n  </tbody>\n</table>\n</div>",
      "text/plain": "                     close  Actual Returns\ndate                                      \n2015-01-21 11:00:00  23.98        0.006295\n2015-01-22 15:00:00  24.42        0.018349\n2015-01-22 15:15:00  24.44        0.000819\n2015-01-22 15:30:00  24.46        0.000818\n2015-01-26 12:30:00  24.33       -0.005315"
     },
     "metadata": {},
     "output_type": "display_data"
    },
    {
     "data": {
      "text/html": "<div>\n<style scoped>\n    .dataframe tbody tr th:only-of-type {\n        vertical-align: middle;\n    }\n\n    .dataframe tbody tr th {\n        vertical-align: top;\n    }\n\n    .dataframe thead th {\n        text-align: right;\n    }\n</style>\n<table border=\"1\" class=\"dataframe\">\n  <thead>\n    <tr style=\"text-align: right;\">\n      <th></th>\n      <th>close</th>\n      <th>Actual Returns</th>\n    </tr>\n    <tr>\n      <th>date</th>\n      <th></th>\n      <th></th>\n    </tr>\n  </thead>\n  <tbody>\n    <tr>\n      <th>2021-01-22 09:30:00</th>\n      <td>33.27</td>\n      <td>-0.006866</td>\n    </tr>\n    <tr>\n      <th>2021-01-22 11:30:00</th>\n      <td>33.35</td>\n      <td>0.002405</td>\n    </tr>\n    <tr>\n      <th>2021-01-22 13:45:00</th>\n      <td>33.42</td>\n      <td>0.002099</td>\n    </tr>\n    <tr>\n      <th>2021-01-22 14:30:00</th>\n      <td>33.47</td>\n      <td>0.001496</td>\n    </tr>\n    <tr>\n      <th>2021-01-22 15:45:00</th>\n      <td>33.44</td>\n      <td>-0.000896</td>\n    </tr>\n  </tbody>\n</table>\n</div>",
      "text/plain": "                     close  Actual Returns\ndate                                      \n2021-01-22 09:30:00  33.27       -0.006866\n2021-01-22 11:30:00  33.35        0.002405\n2021-01-22 13:45:00  33.42        0.002099\n2021-01-22 14:30:00  33.47        0.001496\n2021-01-22 15:45:00  33.44       -0.000896"
     },
     "metadata": {},
     "output_type": "display_data"
    }
   ],
   "source": [
    "# Filter the date index and close columns\n",
    "signals_df = ohlcv_df.loc[:, [\"close\"]]\n",
    "\n",
    "# Use the pct_change function to generate  returns from close prices\n",
    "signals_df[\"Actual Returns\"] = signals_df[\"close\"].pct_change()\n",
    "\n",
    "# Drop all NaN values from the DataFrame\n",
    "signals_df = signals_df.dropna()\n",
    "\n",
    "# Review the DataFrame\n",
    "display(signals_df.head())\n",
    "display(signals_df.tail())"
   ]
  },
  {
   "cell_type": "markdown",
   "metadata": {},
   "source": [
    "## Step 2: Generate trading signals using short- and long-window SMA values. "
   ]
  },
  {
   "cell_type": "code",
   "execution_count": 5,
   "metadata": {},
   "outputs": [
    {
     "data": {
      "text/html": "<div>\n<style scoped>\n    .dataframe tbody tr th:only-of-type {\n        vertical-align: middle;\n    }\n\n    .dataframe tbody tr th {\n        vertical-align: top;\n    }\n\n    .dataframe thead th {\n        text-align: right;\n    }\n</style>\n<table border=\"1\" class=\"dataframe\">\n  <thead>\n    <tr style=\"text-align: right;\">\n      <th></th>\n      <th>close</th>\n      <th>Actual Returns</th>\n      <th>SMA_Fast</th>\n      <th>SMA_Slow</th>\n    </tr>\n    <tr>\n      <th>date</th>\n      <th></th>\n      <th></th>\n      <th></th>\n      <th></th>\n    </tr>\n  </thead>\n  <tbody>\n    <tr>\n      <th>2015-04-02 14:45:00</th>\n      <td>24.92</td>\n      <td>0.000000</td>\n      <td>24.9175</td>\n      <td>24.3214</td>\n    </tr>\n    <tr>\n      <th>2015-04-02 15:00:00</th>\n      <td>24.92</td>\n      <td>0.000000</td>\n      <td>24.9200</td>\n      <td>24.3308</td>\n    </tr>\n    <tr>\n      <th>2015-04-02 15:15:00</th>\n      <td>24.94</td>\n      <td>0.000803</td>\n      <td>24.9250</td>\n      <td>24.3360</td>\n    </tr>\n    <tr>\n      <th>2015-04-02 15:30:00</th>\n      <td>24.95</td>\n      <td>0.000401</td>\n      <td>24.9325</td>\n      <td>24.3411</td>\n    </tr>\n    <tr>\n      <th>2015-04-02 15:45:00</th>\n      <td>24.98</td>\n      <td>0.001202</td>\n      <td>24.9475</td>\n      <td>24.3463</td>\n    </tr>\n  </tbody>\n</table>\n</div>",
      "text/plain": "                     close  Actual Returns  SMA_Fast  SMA_Slow\ndate                                                          \n2015-04-02 14:45:00  24.92        0.000000   24.9175   24.3214\n2015-04-02 15:00:00  24.92        0.000000   24.9200   24.3308\n2015-04-02 15:15:00  24.94        0.000803   24.9250   24.3360\n2015-04-02 15:30:00  24.95        0.000401   24.9325   24.3411\n2015-04-02 15:45:00  24.98        0.001202   24.9475   24.3463"
     },
     "metadata": {},
     "output_type": "display_data"
    },
    {
     "data": {
      "text/html": "<div>\n<style scoped>\n    .dataframe tbody tr th:only-of-type {\n        vertical-align: middle;\n    }\n\n    .dataframe tbody tr th {\n        vertical-align: top;\n    }\n\n    .dataframe thead th {\n        text-align: right;\n    }\n</style>\n<table border=\"1\" class=\"dataframe\">\n  <thead>\n    <tr style=\"text-align: right;\">\n      <th></th>\n      <th>close</th>\n      <th>Actual Returns</th>\n      <th>SMA_Fast</th>\n      <th>SMA_Slow</th>\n    </tr>\n    <tr>\n      <th>date</th>\n      <th></th>\n      <th></th>\n      <th></th>\n      <th></th>\n    </tr>\n  </thead>\n  <tbody>\n    <tr>\n      <th>2021-01-22 09:30:00</th>\n      <td>33.27</td>\n      <td>-0.006866</td>\n      <td>33.2025</td>\n      <td>30.40215</td>\n    </tr>\n    <tr>\n      <th>2021-01-22 11:30:00</th>\n      <td>33.35</td>\n      <td>0.002405</td>\n      <td>33.2725</td>\n      <td>30.44445</td>\n    </tr>\n    <tr>\n      <th>2021-01-22 13:45:00</th>\n      <td>33.42</td>\n      <td>0.002099</td>\n      <td>33.3850</td>\n      <td>30.48745</td>\n    </tr>\n    <tr>\n      <th>2021-01-22 14:30:00</th>\n      <td>33.47</td>\n      <td>0.001496</td>\n      <td>33.3775</td>\n      <td>30.53085</td>\n    </tr>\n    <tr>\n      <th>2021-01-22 15:45:00</th>\n      <td>33.44</td>\n      <td>-0.000896</td>\n      <td>33.4200</td>\n      <td>30.57495</td>\n    </tr>\n  </tbody>\n</table>\n</div>",
      "text/plain": "                     close  Actual Returns  SMA_Fast  SMA_Slow\ndate                                                          \n2021-01-22 09:30:00  33.27       -0.006866   33.2025  30.40215\n2021-01-22 11:30:00  33.35        0.002405   33.2725  30.44445\n2021-01-22 13:45:00  33.42        0.002099   33.3850  30.48745\n2021-01-22 14:30:00  33.47        0.001496   33.3775  30.53085\n2021-01-22 15:45:00  33.44       -0.000896   33.4200  30.57495"
     },
     "metadata": {},
     "output_type": "display_data"
    }
   ],
   "source": [
    "# Set the short window and long window\n",
    "short_window = 4\n",
    "long_window = 100\n",
    "\n",
    "# Generate the fast and slow simple moving averages (4 and 100 days, respectively)\n",
    "signals_df['SMA_Fast'] = signals_df['close'].rolling(window=short_window).mean()\n",
    "signals_df['SMA_Slow'] = signals_df['close'].rolling(window=long_window).mean()\n",
    "\n",
    "signals_df = signals_df.dropna()\n",
    "\n",
    "# Review the DataFrame\n",
    "display(signals_df.head())\n",
    "display(signals_df.tail())"
   ]
  },
  {
   "cell_type": "code",
   "execution_count": 6,
   "metadata": {},
   "outputs": [
    {
     "data": {
      "text/html": "<div>\n<style scoped>\n    .dataframe tbody tr th:only-of-type {\n        vertical-align: middle;\n    }\n\n    .dataframe tbody tr th {\n        vertical-align: top;\n    }\n\n    .dataframe thead th {\n        text-align: right;\n    }\n</style>\n<table border=\"1\" class=\"dataframe\">\n  <thead>\n    <tr style=\"text-align: right;\">\n      <th></th>\n      <th>close</th>\n      <th>Actual Returns</th>\n      <th>SMA_Fast</th>\n      <th>SMA_Slow</th>\n      <th>Signal</th>\n    </tr>\n    <tr>\n      <th>date</th>\n      <th></th>\n      <th></th>\n      <th></th>\n      <th></th>\n      <th></th>\n    </tr>\n  </thead>\n  <tbody>\n    <tr>\n      <th>2015-04-02 14:45:00</th>\n      <td>24.92</td>\n      <td>0.000000</td>\n      <td>24.9175</td>\n      <td>24.3214</td>\n      <td>1.0</td>\n    </tr>\n    <tr>\n      <th>2015-04-02 15:00:00</th>\n      <td>24.92</td>\n      <td>0.000000</td>\n      <td>24.9200</td>\n      <td>24.3308</td>\n      <td>1.0</td>\n    </tr>\n    <tr>\n      <th>2015-04-02 15:15:00</th>\n      <td>24.94</td>\n      <td>0.000803</td>\n      <td>24.9250</td>\n      <td>24.3360</td>\n      <td>1.0</td>\n    </tr>\n    <tr>\n      <th>2015-04-02 15:30:00</th>\n      <td>24.95</td>\n      <td>0.000401</td>\n      <td>24.9325</td>\n      <td>24.3411</td>\n      <td>1.0</td>\n    </tr>\n    <tr>\n      <th>2015-04-02 15:45:00</th>\n      <td>24.98</td>\n      <td>0.001202</td>\n      <td>24.9475</td>\n      <td>24.3463</td>\n      <td>1.0</td>\n    </tr>\n  </tbody>\n</table>\n</div>",
      "text/plain": "                     close  Actual Returns  SMA_Fast  SMA_Slow  Signal\ndate                                                                  \n2015-04-02 14:45:00  24.92        0.000000   24.9175   24.3214     1.0\n2015-04-02 15:00:00  24.92        0.000000   24.9200   24.3308     1.0\n2015-04-02 15:15:00  24.94        0.000803   24.9250   24.3360     1.0\n2015-04-02 15:30:00  24.95        0.000401   24.9325   24.3411     1.0\n2015-04-02 15:45:00  24.98        0.001202   24.9475   24.3463     1.0"
     },
     "metadata": {},
     "output_type": "display_data"
    },
    {
     "data": {
      "text/html": "<div>\n<style scoped>\n    .dataframe tbody tr th:only-of-type {\n        vertical-align: middle;\n    }\n\n    .dataframe tbody tr th {\n        vertical-align: top;\n    }\n\n    .dataframe thead th {\n        text-align: right;\n    }\n</style>\n<table border=\"1\" class=\"dataframe\">\n  <thead>\n    <tr style=\"text-align: right;\">\n      <th></th>\n      <th>close</th>\n      <th>Actual Returns</th>\n      <th>SMA_Fast</th>\n      <th>SMA_Slow</th>\n      <th>Signal</th>\n    </tr>\n    <tr>\n      <th>date</th>\n      <th></th>\n      <th></th>\n      <th></th>\n      <th></th>\n      <th></th>\n    </tr>\n  </thead>\n  <tbody>\n    <tr>\n      <th>2021-01-22 09:30:00</th>\n      <td>33.27</td>\n      <td>-0.006866</td>\n      <td>33.2025</td>\n      <td>30.40215</td>\n      <td>-1.0</td>\n    </tr>\n    <tr>\n      <th>2021-01-22 11:30:00</th>\n      <td>33.35</td>\n      <td>0.002405</td>\n      <td>33.2725</td>\n      <td>30.44445</td>\n      <td>1.0</td>\n    </tr>\n    <tr>\n      <th>2021-01-22 13:45:00</th>\n      <td>33.42</td>\n      <td>0.002099</td>\n      <td>33.3850</td>\n      <td>30.48745</td>\n      <td>1.0</td>\n    </tr>\n    <tr>\n      <th>2021-01-22 14:30:00</th>\n      <td>33.47</td>\n      <td>0.001496</td>\n      <td>33.3775</td>\n      <td>30.53085</td>\n      <td>1.0</td>\n    </tr>\n    <tr>\n      <th>2021-01-22 15:45:00</th>\n      <td>33.44</td>\n      <td>-0.000896</td>\n      <td>33.4200</td>\n      <td>30.57495</td>\n      <td>-1.0</td>\n    </tr>\n  </tbody>\n</table>\n</div>",
      "text/plain": "                     close  Actual Returns  SMA_Fast  SMA_Slow  Signal\ndate                                                                  \n2021-01-22 09:30:00  33.27       -0.006866   33.2025  30.40215    -1.0\n2021-01-22 11:30:00  33.35        0.002405   33.2725  30.44445     1.0\n2021-01-22 13:45:00  33.42        0.002099   33.3850  30.48745     1.0\n2021-01-22 14:30:00  33.47        0.001496   33.3775  30.53085     1.0\n2021-01-22 15:45:00  33.44       -0.000896   33.4200  30.57495    -1.0"
     },
     "metadata": {},
     "output_type": "display_data"
    }
   ],
   "source": [
    "# Initialize the new Signal column\n",
    "signals_df['Signal'] = 0.0\n",
    "\n",
    "# When Actual Returns are greater than or equal to 0, generate signal to buy stock long\n",
    "signals_df.loc[(signals_df['Actual Returns'] >= 0), 'Signal'] = 1\n",
    "\n",
    "# When Actual Returns are less than 0, generate signal to sell stock short\n",
    "signals_df.loc[(signals_df['Actual Returns'] < 0), 'Signal'] = -1\n",
    "\n",
    "# Review the DataFrame\n",
    "display(signals_df.head())\n",
    "display(signals_df.tail())"
   ]
  },
  {
   "cell_type": "code",
   "execution_count": 7,
   "metadata": {},
   "outputs": [
    {
     "data": {
      "text/plain": " 1.0    2368\n-1.0    1855\nName: Signal, dtype: int64"
     },
     "execution_count": 7,
     "metadata": {},
     "output_type": "execute_result"
    }
   ],
   "source": [
    "signals_df['Signal'].value_counts()"
   ]
  },
  {
   "cell_type": "code",
   "execution_count": 14,
   "metadata": {},
   "outputs": [
    {
     "data": {
      "text/html": "<div>\n<style scoped>\n    .dataframe tbody tr th:only-of-type {\n        vertical-align: middle;\n    }\n\n    .dataframe tbody tr th {\n        vertical-align: top;\n    }\n\n    .dataframe thead th {\n        text-align: right;\n    }\n</style>\n<table border=\"1\" class=\"dataframe\">\n  <thead>\n    <tr style=\"text-align: right;\">\n      <th></th>\n      <th>close</th>\n      <th>Actual Returns</th>\n      <th>SMA_Fast</th>\n      <th>SMA_Slow</th>\n      <th>Signal</th>\n      <th>Strategy Returns</th>\n    </tr>\n    <tr>\n      <th>date</th>\n      <th></th>\n      <th></th>\n      <th></th>\n      <th></th>\n      <th></th>\n      <th></th>\n    </tr>\n  </thead>\n  <tbody>\n    <tr>\n      <th>2015-04-02 14:45:00</th>\n      <td>24.92</td>\n      <td>0.000000</td>\n      <td>24.9175</td>\n      <td>24.3214</td>\n      <td>1.0</td>\n      <td>NaN</td>\n    </tr>\n    <tr>\n      <th>2015-04-02 15:00:00</th>\n      <td>24.92</td>\n      <td>0.000000</td>\n      <td>24.9200</td>\n      <td>24.3308</td>\n      <td>1.0</td>\n      <td>0.000000</td>\n    </tr>\n    <tr>\n      <th>2015-04-02 15:15:00</th>\n      <td>24.94</td>\n      <td>0.000803</td>\n      <td>24.9250</td>\n      <td>24.3360</td>\n      <td>1.0</td>\n      <td>0.000803</td>\n    </tr>\n    <tr>\n      <th>2015-04-02 15:30:00</th>\n      <td>24.95</td>\n      <td>0.000401</td>\n      <td>24.9325</td>\n      <td>24.3411</td>\n      <td>1.0</td>\n      <td>0.000401</td>\n    </tr>\n    <tr>\n      <th>2015-04-02 15:45:00</th>\n      <td>24.98</td>\n      <td>0.001202</td>\n      <td>24.9475</td>\n      <td>24.3463</td>\n      <td>1.0</td>\n      <td>0.001202</td>\n    </tr>\n  </tbody>\n</table>\n</div>",
      "text/plain": "                     close  Actual Returns  SMA_Fast  SMA_Slow  Signal  \\\ndate                                                                     \n2015-04-02 14:45:00  24.92        0.000000   24.9175   24.3214     1.0   \n2015-04-02 15:00:00  24.92        0.000000   24.9200   24.3308     1.0   \n2015-04-02 15:15:00  24.94        0.000803   24.9250   24.3360     1.0   \n2015-04-02 15:30:00  24.95        0.000401   24.9325   24.3411     1.0   \n2015-04-02 15:45:00  24.98        0.001202   24.9475   24.3463     1.0   \n\n                     Strategy Returns  \ndate                                   \n2015-04-02 14:45:00               NaN  \n2015-04-02 15:00:00          0.000000  \n2015-04-02 15:15:00          0.000803  \n2015-04-02 15:30:00          0.000401  \n2015-04-02 15:45:00          0.001202  "
     },
     "metadata": {},
     "output_type": "display_data"
    },
    {
     "data": {
      "text/html": "<div>\n<style scoped>\n    .dataframe tbody tr th:only-of-type {\n        vertical-align: middle;\n    }\n\n    .dataframe tbody tr th {\n        vertical-align: top;\n    }\n\n    .dataframe thead th {\n        text-align: right;\n    }\n</style>\n<table border=\"1\" class=\"dataframe\">\n  <thead>\n    <tr style=\"text-align: right;\">\n      <th></th>\n      <th>close</th>\n      <th>Actual Returns</th>\n      <th>SMA_Fast</th>\n      <th>SMA_Slow</th>\n      <th>Signal</th>\n      <th>Strategy Returns</th>\n    </tr>\n    <tr>\n      <th>date</th>\n      <th></th>\n      <th></th>\n      <th></th>\n      <th></th>\n      <th></th>\n      <th></th>\n    </tr>\n  </thead>\n  <tbody>\n    <tr>\n      <th>2021-01-22 09:30:00</th>\n      <td>33.27</td>\n      <td>-0.006866</td>\n      <td>33.2025</td>\n      <td>30.40215</td>\n      <td>-1.0</td>\n      <td>-0.006866</td>\n    </tr>\n    <tr>\n      <th>2021-01-22 11:30:00</th>\n      <td>33.35</td>\n      <td>0.002405</td>\n      <td>33.2725</td>\n      <td>30.44445</td>\n      <td>1.0</td>\n      <td>-0.002405</td>\n    </tr>\n    <tr>\n      <th>2021-01-22 13:45:00</th>\n      <td>33.42</td>\n      <td>0.002099</td>\n      <td>33.3850</td>\n      <td>30.48745</td>\n      <td>1.0</td>\n      <td>0.002099</td>\n    </tr>\n    <tr>\n      <th>2021-01-22 14:30:00</th>\n      <td>33.47</td>\n      <td>0.001496</td>\n      <td>33.3775</td>\n      <td>30.53085</td>\n      <td>1.0</td>\n      <td>0.001496</td>\n    </tr>\n    <tr>\n      <th>2021-01-22 15:45:00</th>\n      <td>33.44</td>\n      <td>-0.000896</td>\n      <td>33.4200</td>\n      <td>30.57495</td>\n      <td>-1.0</td>\n      <td>-0.000896</td>\n    </tr>\n  </tbody>\n</table>\n</div>",
      "text/plain": "                     close  Actual Returns  SMA_Fast  SMA_Slow  Signal  \\\ndate                                                                     \n2021-01-22 09:30:00  33.27       -0.006866   33.2025  30.40215    -1.0   \n2021-01-22 11:30:00  33.35        0.002405   33.2725  30.44445     1.0   \n2021-01-22 13:45:00  33.42        0.002099   33.3850  30.48745     1.0   \n2021-01-22 14:30:00  33.47        0.001496   33.3775  30.53085     1.0   \n2021-01-22 15:45:00  33.44       -0.000896   33.4200  30.57495    -1.0   \n\n                     Strategy Returns  \ndate                                   \n2021-01-22 09:30:00         -0.006866  \n2021-01-22 11:30:00         -0.002405  \n2021-01-22 13:45:00          0.002099  \n2021-01-22 14:30:00          0.001496  \n2021-01-22 15:45:00         -0.000896  "
     },
     "metadata": {},
     "output_type": "display_data"
    }
   ],
   "source": [
    "# Calculate the strategy returns and add them to the signals_df DataFrame\n",
    "signals_df['Strategy Returns'] = signals_df['Actual Returns'] * signals_df['Signal'].shift()\n",
    "\n",
    "# Review the DataFrame\n",
    "display(signals_df.head())\n",
    "display(signals_df.tail())"
   ]
  },
  {
   "cell_type": "code",
   "execution_count": 15,
   "metadata": {},
   "outputs": [
    {
     "data": {
      "text/plain": "<AxesSubplot:xlabel='date'>"
     },
     "execution_count": 15,
     "metadata": {},
     "output_type": "execute_result"
    },
    {
     "data": {
      "image/png": "[encoded data removed]",
      "text/plain": "<Figure size 432x288 with 1 Axes>"
     },
     "metadata": {
      "needs_background": "light"
     },
     "output_type": "display_data"
    }
   ],
   "source": [
    "# Plot Strategy Returns to examine performance\n",
    "(1 + signals_df['Strategy Returns']).cumprod().plot()"
   ]
  },
  {
   "cell_type": "markdown",
   "metadata": {},
   "source": [
    "### Step 3: Split the data into training and testing datasets."
   ]
  },
  {
   "cell_type": "code",
   "execution_count": 46,
   "metadata": {},
   "outputs": [
    {
     "data": {
      "text/html": "<div>\n<style scoped>\n    .dataframe tbody tr th:only-of-type {\n        vertical-align: middle;\n    }\n\n    .dataframe tbody tr th {\n        vertical-align: top;\n    }\n\n    .dataframe thead th {\n        text-align: right;\n    }\n</style>\n<table border=\"1\" class=\"dataframe\">\n  <thead>\n    <tr style=\"text-align: right;\">\n      <th></th>\n      <th>SMA_Fast</th>\n      <th>SMA_Slow</th>\n    </tr>\n    <tr>\n      <th>date</th>\n      <th></th>\n      <th></th>\n    </tr>\n  </thead>\n  <tbody>\n    <tr>\n      <th>2015-04-02 15:00:00</th>\n      <td>24.9175</td>\n      <td>24.3214</td>\n    </tr>\n    <tr>\n      <th>2015-04-02 15:15:00</th>\n      <td>24.9200</td>\n      <td>24.3308</td>\n    </tr>\n    <tr>\n      <th>2015-04-02 15:30:00</th>\n      <td>24.9250</td>\n      <td>24.3360</td>\n    </tr>\n    <tr>\n      <th>2015-04-02 15:45:00</th>\n      <td>24.9325</td>\n      <td>24.3411</td>\n    </tr>\n    <tr>\n      <th>2015-04-06 09:30:00</th>\n      <td>24.9475</td>\n      <td>24.3463</td>\n    </tr>\n  </tbody>\n</table>\n</div>",
      "text/plain": "                     SMA_Fast  SMA_Slow\ndate                                   \n2015-04-02 15:00:00   24.9175   24.3214\n2015-04-02 15:15:00   24.9200   24.3308\n2015-04-02 15:30:00   24.9250   24.3360\n2015-04-02 15:45:00   24.9325   24.3411\n2015-04-06 09:30:00   24.9475   24.3463"
     },
     "metadata": {},
     "output_type": "display_data"
    },
    {
     "data": {
      "text/html": "<div>\n<style scoped>\n    .dataframe tbody tr th:only-of-type {\n        vertical-align: middle;\n    }\n\n    .dataframe tbody tr th {\n        vertical-align: top;\n    }\n\n    .dataframe thead th {\n        text-align: right;\n    }\n</style>\n<table border=\"1\" class=\"dataframe\">\n  <thead>\n    <tr style=\"text-align: right;\">\n      <th></th>\n      <th>SMA_Fast</th>\n      <th>SMA_Slow</th>\n    </tr>\n    <tr>\n      <th>date</th>\n      <th></th>\n      <th></th>\n    </tr>\n  </thead>\n  <tbody>\n    <tr>\n      <th>2021-01-22 09:30:00</th>\n      <td>33.1725</td>\n      <td>30.36035</td>\n    </tr>\n    <tr>\n      <th>2021-01-22 11:30:00</th>\n      <td>33.2025</td>\n      <td>30.40215</td>\n    </tr>\n    <tr>\n      <th>2021-01-22 13:45:00</th>\n      <td>33.2725</td>\n      <td>30.44445</td>\n    </tr>\n    <tr>\n      <th>2021-01-22 14:30:00</th>\n      <td>33.3850</td>\n      <td>30.48745</td>\n    </tr>\n    <tr>\n      <th>2021-01-22 15:45:00</th>\n      <td>33.3775</td>\n      <td>30.53085</td>\n    </tr>\n  </tbody>\n</table>\n</div>",
      "text/plain": "                     SMA_Fast  SMA_Slow\ndate                                   \n2021-01-22 09:30:00   33.1725  30.36035\n2021-01-22 11:30:00   33.2025  30.40215\n2021-01-22 13:45:00   33.2725  30.44445\n2021-01-22 14:30:00   33.3850  30.48745\n2021-01-22 15:45:00   33.3775  30.53085"
     },
     "metadata": {},
     "output_type": "display_data"
    }
   ],
   "source": [
    "# Assign a copy of the sma_fast and sma_slow columns to a features DataFrame called X\n",
    "X = signals_df[['SMA_Fast', 'SMA_Slow']].shift().dropna()\n",
    "\n",
    "# Review the DataFrame\n",
    "display(X.head())\n",
    "display(X.tail())"
   ]
  },
  {
   "cell_type": "code",
   "execution_count": 17,
   "metadata": {},
   "outputs": [
    {
     "data": {
      "text/plain": " 1.0    2368\n-1.0    1855\nName: Signal, dtype: int64"
     },
     "execution_count": 17,
     "metadata": {},
     "output_type": "execute_result"
    }
   ],
   "source": [
    "# Create the target set selecting the Signal column and assiging it to y\n",
    "y = signals_df['Signal']\n",
    "\n",
    "# Review the value counts\n",
    "y.value_counts()"
   ]
  },
  {
   "cell_type": "code",
   "execution_count": 18,
   "metadata": {},
   "outputs": [
    {
     "name": "stdout",
     "output_type": "stream",
     "text": [
      "2015-04-02 15:00:00\n"
     ]
    }
   ],
   "source": [
    "# Select the start of the training period\n",
    "training_begin = X.index.min()\n",
    "\n",
    "# Display the training begin date\n",
    "print(training_begin)"
   ]
  },
  {
   "cell_type": "code",
   "execution_count": 19,
   "metadata": {},
   "outputs": [
    {
     "name": "stdout",
     "output_type": "stream",
     "text": [
      "2015-07-02 15:00:00\n"
     ]
    }
   ],
   "source": [
    "# Select the ending period for the training data with an offset of 3 months\n",
    "training_end = X.index.min() + DateOffset(months=3)\n",
    "\n",
    "# Display the training end date\n",
    "print(training_end)"
   ]
  },
  {
   "cell_type": "code",
   "execution_count": 20,
   "metadata": {},
   "outputs": [
    {
     "data": {
      "text/html": "<div>\n<style scoped>\n    .dataframe tbody tr th:only-of-type {\n        vertical-align: middle;\n    }\n\n    .dataframe tbody tr th {\n        vertical-align: top;\n    }\n\n    .dataframe thead th {\n        text-align: right;\n    }\n</style>\n<table border=\"1\" class=\"dataframe\">\n  <thead>\n    <tr style=\"text-align: right;\">\n      <th></th>\n      <th>SMA_Fast</th>\n      <th>SMA_Slow</th>\n    </tr>\n    <tr>\n      <th>date</th>\n      <th></th>\n      <th></th>\n    </tr>\n  </thead>\n  <tbody>\n    <tr>\n      <th>2015-04-02 15:00:00</th>\n      <td>24.9175</td>\n      <td>24.3214</td>\n    </tr>\n    <tr>\n      <th>2015-04-02 15:15:00</th>\n      <td>24.9200</td>\n      <td>24.3308</td>\n    </tr>\n    <tr>\n      <th>2015-04-02 15:30:00</th>\n      <td>24.9250</td>\n      <td>24.3360</td>\n    </tr>\n    <tr>\n      <th>2015-04-02 15:45:00</th>\n      <td>24.9325</td>\n      <td>24.3411</td>\n    </tr>\n    <tr>\n      <th>2015-04-06 09:30:00</th>\n      <td>24.9475</td>\n      <td>24.3463</td>\n    </tr>\n  </tbody>\n</table>\n</div>",
      "text/plain": "                     SMA_Fast  SMA_Slow\ndate                                   \n2015-04-02 15:00:00   24.9175   24.3214\n2015-04-02 15:15:00   24.9200   24.3308\n2015-04-02 15:30:00   24.9250   24.3360\n2015-04-02 15:45:00   24.9325   24.3411\n2015-04-06 09:30:00   24.9475   24.3463"
     },
     "execution_count": 20,
     "metadata": {},
     "output_type": "execute_result"
    }
   ],
   "source": [
    "# Generate the X_train and y_train DataFrames\n",
    "X_train = X.loc[training_begin:training_end]\n",
    "y_train = y.loc[training_begin:training_end]\n",
    "\n",
    "# Review the X_train DataFrame\n",
    "X_train.head()"
   ]
  },
  {
   "cell_type": "code",
   "execution_count": 21,
   "metadata": {},
   "outputs": [
    {
     "data": {
      "text/html": "<div>\n<style scoped>\n    .dataframe tbody tr th:only-of-type {\n        vertical-align: middle;\n    }\n\n    .dataframe tbody tr th {\n        vertical-align: top;\n    }\n\n    .dataframe thead th {\n        text-align: right;\n    }\n</style>\n<table border=\"1\" class=\"dataframe\">\n  <thead>\n    <tr style=\"text-align: right;\">\n      <th></th>\n      <th>SMA_Fast</th>\n      <th>SMA_Slow</th>\n    </tr>\n    <tr>\n      <th>date</th>\n      <th></th>\n      <th></th>\n    </tr>\n  </thead>\n  <tbody>\n    <tr>\n      <th>2015-04-02 15:00:00</th>\n      <td>24.9175</td>\n      <td>24.3214</td>\n    </tr>\n    <tr>\n      <th>2015-04-02 15:15:00</th>\n      <td>24.9200</td>\n      <td>24.3308</td>\n    </tr>\n    <tr>\n      <th>2015-04-02 15:30:00</th>\n      <td>24.9250</td>\n      <td>24.3360</td>\n    </tr>\n    <tr>\n      <th>2015-04-02 15:45:00</th>\n      <td>24.9325</td>\n      <td>24.3411</td>\n    </tr>\n    <tr>\n      <th>2015-04-06 09:30:00</th>\n      <td>24.9475</td>\n      <td>24.3463</td>\n    </tr>\n  </tbody>\n</table>\n</div>",
      "text/plain": "                     SMA_Fast  SMA_Slow\ndate                                   \n2015-04-02 15:00:00   24.9175   24.3214\n2015-04-02 15:15:00   24.9200   24.3308\n2015-04-02 15:30:00   24.9250   24.3360\n2015-04-02 15:45:00   24.9325   24.3411\n2015-04-06 09:30:00   24.9475   24.3463"
     },
     "execution_count": 21,
     "metadata": {},
     "output_type": "execute_result"
    }
   ],
   "source": [
    "# Generate the X_test and y_test DataFrames\n",
    "X_test = X.loc[training_end+DateOffset(hours=1):]\n",
    "y_test = y.loc[training_end+DateOffset(hours=1):]\n",
    "\n",
    "# Review the X_test DataFrame\n",
    "X_train.head()"
   ]
  },
  {
   "cell_type": "code",
   "execution_count": 22,
   "metadata": {},
   "outputs": [],
   "source": [
    "# Scale the features DataFrames\n",
    "\n",
    "# Create a StandardScaler instance\n",
    "scaler = StandardScaler()\n",
    "\n",
    "# Apply the scaler model to fit the X-train data\n",
    "X_scaler = scaler.fit(X_train)\n",
    "\n",
    "# Transform the X_train and X_test DataFrames using the X_scaler\n",
    "X_train_scaled = X_scaler.transform(X_train)\n",
    "X_test_scaled = X_scaler.transform(X_test)"
   ]
  },
  {
   "cell_type": "markdown",
   "metadata": {},
   "source": [
    "### Step 4: Use the `SVC` classifier model from SKLearn's support vector machine (SVM) learning method to fit the training data and make predictions based on the testing data. Review the predictions."
   ]
  },
  {
   "cell_type": "code",
   "execution_count": 37,
   "metadata": {},
   "outputs": [
    {
     "data": {
      "text/plain": "array([1., 1., 1., 1., 1., 1., 1., 1., 1., 1.])"
     },
     "execution_count": 37,
     "metadata": {},
     "output_type": "execute_result"
    }
   ],
   "source": [
    "# From SVM, instantiate SVC classifier model instance\n",
    "svm_model = svm.SVC()\n",
    " \n",
    "# Fit the model to the data using the training data\n",
    "svm_model = svm_model.fit(X_train_scaled, y_train)\n",
    " \n",
    "# Use the testing data to make the model predictions\n",
    "svm_pred = svm_model.predict(X_test_scaled)\n",
    "\n",
    "# Review the model's predicted values\n",
    "svm_pred[:10]\n"
   ]
  },
  {
   "cell_type": "markdown",
   "metadata": {},
   "source": [
    "### Step 5: Review the classification report associated with the `SVC` model predictions. "
   ]
  },
  {
   "cell_type": "code",
   "execution_count": 28,
   "metadata": {},
   "outputs": [
    {
     "name": "stdout",
     "output_type": "stream",
     "text": [
      "              precision    recall  f1-score   support\n",
      "\n",
      "        -1.0       0.43      0.04      0.07      1804\n",
      "         1.0       0.56      0.96      0.71      2288\n",
      "\n",
      "    accuracy                           0.55      4092\n",
      "   macro avg       0.49      0.50      0.39      4092\n",
      "weighted avg       0.50      0.55      0.43      4092\n",
      "\n"
     ]
    }
   ],
   "source": [
    "# Use a classification report to evaluate the model using the predictions and testing data\n",
    "svm_testing_report = classification_report(y_test, svm_pred)\n",
    "\n",
    "# Print the classification report\n",
    "# YOUR CODE HERE\n",
    "print(svm_testing_report)"
   ]
  },
  {
   "cell_type": "markdown",
   "metadata": {},
   "source": [
    "### Step 6: Create a predictions DataFrame that contains columns for “Predicted” values, “Actual Returns”, and “Strategy Returns”."
   ]
  },
  {
   "cell_type": "code",
   "execution_count": 85,
   "metadata": {},
   "outputs": [
    {
     "data": {
      "text/html": "<div>\n<style scoped>\n    .dataframe tbody tr th:only-of-type {\n        vertical-align: middle;\n    }\n\n    .dataframe tbody tr th {\n        vertical-align: top;\n    }\n\n    .dataframe thead th {\n        text-align: right;\n    }\n</style>\n<table border=\"1\" class=\"dataframe\">\n  <thead>\n    <tr style=\"text-align: right;\">\n      <th></th>\n      <th>Predicted</th>\n      <th>Actual Returns</th>\n      <th>Strategy Returns</th>\n    </tr>\n    <tr>\n      <th>date</th>\n      <th></th>\n      <th></th>\n      <th></th>\n    </tr>\n  </thead>\n  <tbody>\n    <tr>\n      <th>2015-07-06 10:00:00</th>\n      <td>1.0</td>\n      <td>-0.025715</td>\n      <td>NaN</td>\n    </tr>\n    <tr>\n      <th>2015-07-06 10:45:00</th>\n      <td>1.0</td>\n      <td>0.007237</td>\n      <td>0.007237</td>\n    </tr>\n    <tr>\n      <th>2015-07-06 14:15:00</th>\n      <td>1.0</td>\n      <td>-0.009721</td>\n      <td>-0.009721</td>\n    </tr>\n    <tr>\n      <th>2015-07-06 14:30:00</th>\n      <td>1.0</td>\n      <td>-0.003841</td>\n      <td>-0.003841</td>\n    </tr>\n    <tr>\n      <th>2015-07-07 11:30:00</th>\n      <td>1.0</td>\n      <td>-0.018423</td>\n      <td>-0.018423</td>\n    </tr>\n  </tbody>\n</table>\n</div>",
      "text/plain": "                     Predicted  Actual Returns  Strategy Returns\ndate                                                            \n2015-07-06 10:00:00        1.0       -0.025715               NaN\n2015-07-06 10:45:00        1.0        0.007237          0.007237\n2015-07-06 14:15:00        1.0       -0.009721         -0.009721\n2015-07-06 14:30:00        1.0       -0.003841         -0.003841\n2015-07-07 11:30:00        1.0       -0.018423         -0.018423"
     },
     "metadata": {},
     "output_type": "display_data"
    },
    {
     "data": {
      "text/html": "<div>\n<style scoped>\n    .dataframe tbody tr th:only-of-type {\n        vertical-align: middle;\n    }\n\n    .dataframe tbody tr th {\n        vertical-align: top;\n    }\n\n    .dataframe thead th {\n        text-align: right;\n    }\n</style>\n<table border=\"1\" class=\"dataframe\">\n  <thead>\n    <tr style=\"text-align: right;\">\n      <th></th>\n      <th>Predicted</th>\n      <th>Actual Returns</th>\n      <th>Strategy Returns</th>\n    </tr>\n    <tr>\n      <th>date</th>\n      <th></th>\n      <th></th>\n      <th></th>\n    </tr>\n  </thead>\n  <tbody>\n    <tr>\n      <th>2021-01-22 09:30:00</th>\n      <td>1.0</td>\n      <td>-0.006866</td>\n      <td>-0.006866</td>\n    </tr>\n    <tr>\n      <th>2021-01-22 11:30:00</th>\n      <td>1.0</td>\n      <td>0.002405</td>\n      <td>0.002405</td>\n    </tr>\n    <tr>\n      <th>2021-01-22 13:45:00</th>\n      <td>1.0</td>\n      <td>0.002099</td>\n      <td>0.002099</td>\n    </tr>\n    <tr>\n      <th>2021-01-22 14:30:00</th>\n      <td>1.0</td>\n      <td>0.001496</td>\n      <td>0.001496</td>\n    </tr>\n    <tr>\n      <th>2021-01-22 15:45:00</th>\n      <td>1.0</td>\n      <td>-0.000896</td>\n      <td>-0.000896</td>\n    </tr>\n  </tbody>\n</table>\n</div>",
      "text/plain": "                     Predicted  Actual Returns  Strategy Returns\ndate                                                            \n2021-01-22 09:30:00        1.0       -0.006866         -0.006866\n2021-01-22 11:30:00        1.0        0.002405          0.002405\n2021-01-22 13:45:00        1.0        0.002099          0.002099\n2021-01-22 14:30:00        1.0        0.001496          0.001496\n2021-01-22 15:45:00        1.0       -0.000896         -0.000896"
     },
     "metadata": {},
     "output_type": "display_data"
    }
   ],
   "source": [
    "# Create a new empty predictions DataFrame.\n",
    "\n",
    "# Create a predictions DataFrame\n",
    "predictions_df = pd.DataFrame(index=X_test.index)\n",
    "\n",
    "# Add the SVM model predictions to the DataFrame\n",
    "predictions_df['Predicted'] = svm_pred\n",
    "\n",
    "# Add the actual returns to the DataFrame\n",
    "predictions_df['Actual Returns'] = signals_df['Actual Returns']\n",
    "\n",
    "# Add the strategy returns to the DataFrame\n",
    "predictions_df['Strategy Returns'] = signals_df['Actual Returns'] * predictions_df['Predicted'].shift()\n",
    "# Review the DataFrame\n",
    "display(predictions_df.head())\n",
    "display(predictions_df.tail())"
   ]
  },
  {
   "cell_type": "markdown",
   "metadata": {},
   "source": [
    "### Step 7: Create a cumulative return plot that shows the actual returns vs. the strategy returns. Save a PNG image of this plot. This will serve as a baseline against which to compare the effects of tuning the trading algorithm."
   ]
  },
  {
   "cell_type": "code",
   "execution_count": 93,
   "metadata": {},
   "outputs": [
    {
     "data": {
      "image/png": "[encoded data removed]",
      "text/plain": "<Figure size 432x288 with 1 Axes>"
     },
     "metadata": {
      "needs_background": "light"
     },
     "output_type": "display_data"
    }
   ],
   "source": [
    "# Plot the actual returns versus the strategy returns\n",
    "# YOUR CODE HERE\n",
    "(1 + predictions_df[['Actual Returns', 'Strategy Returns']]).cumprod().plot()\n",
    "plt.savefig('Original_actual_strategy_cumreturns.png')"
   ]
  },
  {
   "cell_type": "markdown",
   "metadata": {},
   "source": [
    "---\n",
    "\n",
    "## Tune the Baseline Trading Algorithm"
   ]
  },
  {
   "cell_type": "markdown",
   "metadata": {},
   "source": [
    "## Step 6: Use an Alternative ML Model and Evaluate Strategy Returns"
   ]
  },
  {
   "cell_type": "markdown",
   "metadata": {},
   "source": [
    "In this section, you’ll tune, or adjust, the model’s input features to find the parameters that result in the best trading outcomes. You’ll choose the best by comparing the cumulative products of the strategy returns."
   ]
  },
  {
   "cell_type": "markdown",
   "metadata": {},
   "source": [
    "### Step 1: Tune the training algorithm by adjusting the size of the training dataset. \n",
    "\n",
    "To do so, slice your data into different periods. Rerun the notebook with the updated parameters, and record the results in your `README.md` file. \n",
    "\n",
    "Answer the following question: What impact resulted from increasing or decreasing the training window?"
   ]
  },
  {
   "cell_type": "code",
   "execution_count": 48,
   "metadata": {},
   "outputs": [
    {
     "name": "stdout",
     "output_type": "stream",
     "text": [
      "2016-04-02 15:00:00\n"
     ]
    }
   ],
   "source": [
    "# Tune the training window\n",
    "training_begin_tuned = X.index.min()\n",
    "training_end_tuned = X.index.min() + DateOffset(months=12)\n",
    "\n",
    "# Display the training end date\n",
    "print(training_end_tuned)\n"
   ]
  },
  {
   "cell_type": "code",
   "execution_count": 51,
   "metadata": {},
   "outputs": [],
   "source": [
    "# Create training data\n",
    "X_train_tuned = X.loc[training_begin_tuned:training_end_tuned]\n",
    "y_train_tuned = y.loc[training_begin_tuned:training_end_tuned]"
   ]
  },
  {
   "cell_type": "code",
   "execution_count": 52,
   "metadata": {},
   "outputs": [],
   "source": [
    "# Create testing data \n",
    "X_test_tuned = X.loc[training_end_tuned+DateOffset(hours=1):]\n",
    "y_test_tuned = y.loc[training_end_tuned+DateOffset(hours=1):]"
   ]
  },
  {
   "cell_type": "code",
   "execution_count": 53,
   "metadata": {},
   "outputs": [],
   "source": [
    "# Scale the new training datasets\n",
    "scaler = StandardScaler()\n",
    "\n",
    "X_scaler_tuned = scaler.fit(X_train_tuned)\n",
    "\n",
    "X_train_tuned_scaled = X_scaler_tuned.transform(X_train_tuned)\n",
    "X_test_tuned_scaled = X_scaler_tuned.transform(X_test_tuned)"
   ]
  },
  {
   "cell_type": "code",
   "execution_count": 73,
   "metadata": {},
   "outputs": [],
   "source": [
    "# Use the SVM model to fit the training data\n",
    "svm_model_tuned = svm.SVC()\n",
    "\n",
    "svm_model_tuned = svm_model_tuned.fit(X_train_tuned_scaled, y_train_tuned)\n",
    "\n",
    "# Predict using testing data\n",
    "svm_pred_tuned = svm_model_tuned.predict(X_test_tuned_scaled)"
   ]
  },
  {
   "cell_type": "code",
   "execution_count": 75,
   "metadata": {},
   "outputs": [
    {
     "name": "stdout",
     "output_type": "stream",
     "text": [
      "              precision    recall  f1-score   support\n",
      "\n",
      "        -1.0       0.00      0.00      0.00      1497\n",
      "         1.0       0.56      1.00      0.72      1931\n",
      "\n",
      "    accuracy                           0.56      3428\n",
      "   macro avg       0.28      0.50      0.36      3428\n",
      "weighted avg       0.32      0.56      0.41      3428\n",
      "\n"
     ]
    },
    {
     "name": "stderr",
     "output_type": "stream",
     "text": [
      "/Users/aquiba/opt/anaconda3/envs/dev/lib/python3.7/site-packages/sklearn/metrics/_classification.py:1248: UndefinedMetricWarning: Precision and F-score are ill-defined and being set to 0.0 in labels with no predicted samples. Use `zero_division` parameter to control this behavior.\n",
      "  _warn_prf(average, modifier, msg_start, len(result))\n",
      "/Users/aquiba/opt/anaconda3/envs/dev/lib/python3.7/site-packages/sklearn/metrics/_classification.py:1248: UndefinedMetricWarning: Precision and F-score are ill-defined and being set to 0.0 in labels with no predicted samples. Use `zero_division` parameter to control this behavior.\n",
      "  _warn_prf(average, modifier, msg_start, len(result))\n",
      "/Users/aquiba/opt/anaconda3/envs/dev/lib/python3.7/site-packages/sklearn/metrics/_classification.py:1248: UndefinedMetricWarning: Precision and F-score are ill-defined and being set to 0.0 in labels with no predicted samples. Use `zero_division` parameter to control this behavior.\n",
      "  _warn_prf(average, modifier, msg_start, len(result))\n"
     ]
    }
   ],
   "source": [
    "# Print classification report\n",
    "svm_tuned_report = classification_report(y_test_tuned, svm_pred_tuned)\n",
    "print(svm_tuned_report)"
   ]
  },
  {
   "cell_type": "markdown",
   "metadata": {},
   "source": [
    "### Step 2: Tune the trading algorithm by adjusting the SMA input features. \n",
    "\n",
    "Adjust one or both of the windows for the algorithm. Rerun the notebook with the updated parameters, and record the results in your `README.md` file. \n",
    "\n",
    "Answer the following question: What impact resulted from increasing or decreasing either or both of the SMA windows?"
   ]
  },
  {
   "cell_type": "code",
   "execution_count": 78,
   "metadata": {},
   "outputs": [
    {
     "name": "stdout",
     "output_type": "stream",
     "text": [
      "2017-04-02 15:00:00\n",
      "2016-04-02 15:00:00\n"
     ]
    }
   ],
   "source": [
    "# Tune the training dates and window\n",
    "training_begin_later = X.index.min() + DateOffset(months=12)\n",
    "training_end_later = X.index.min() + DateOffset(months=24)\n",
    "\n",
    "# Display the training end date\n",
    "print(training_end_later)\n",
    "print(training_begin_later)\n"
   ]
  },
  {
   "cell_type": "code",
   "execution_count": 79,
   "metadata": {},
   "outputs": [],
   "source": [
    "# Create training data\n",
    "X_train_later = X.loc[training_begin_later:training_end_later]\n",
    "y_train_later = y.loc[training_begin_later:training_end_later]"
   ]
  },
  {
   "cell_type": "code",
   "execution_count": 80,
   "metadata": {},
   "outputs": [],
   "source": [
    "# Create testing data \n",
    "X_test_later = X.loc[training_end_later+DateOffset(hours=1):]\n",
    "y_test_later = y.loc[training_end_later+DateOffset(hours=1):]"
   ]
  },
  {
   "cell_type": "code",
   "execution_count": 81,
   "metadata": {},
   "outputs": [],
   "source": [
    "# Scale the new training datasets\n",
    "scaler = StandardScaler()\n",
    "\n",
    "X_scaler_later = scaler.fit(X_train_later)\n",
    "\n",
    "X_train_later_scaled = X_scaler_later.transform(X_train_later)\n",
    "X_test_later_scaled = X_scaler_later.transform(X_test_later)"
   ]
  },
  {
   "cell_type": "code",
   "execution_count": 82,
   "metadata": {},
   "outputs": [],
   "source": [
    "# Use the SVM model to fit the training data\n",
    "svm_model_later = svm.SVC()\n",
    "\n",
    "svm_model_later = svm_model_later.fit(X_train_later_scaled, y_train_later)\n",
    "\n",
    "# Predict using testing data\n",
    "svm_pred_later = svm_model_later.predict(X_test_later_scaled)"
   ]
  },
  {
   "cell_type": "code",
   "execution_count": 83,
   "metadata": {},
   "outputs": [
    {
     "name": "stdout",
     "output_type": "stream",
     "text": [
      "              precision    recall  f1-score   support\n",
      "\n",
      "        -1.0       0.00      0.00      0.00      1229\n",
      "         1.0       0.56      1.00      0.72      1565\n",
      "\n",
      "    accuracy                           0.56      2794\n",
      "   macro avg       0.28      0.50      0.36      2794\n",
      "weighted avg       0.31      0.56      0.40      2794\n",
      "\n"
     ]
    },
    {
     "name": "stderr",
     "output_type": "stream",
     "text": [
      "/Users/aquiba/opt/anaconda3/envs/dev/lib/python3.7/site-packages/sklearn/metrics/_classification.py:1248: UndefinedMetricWarning: Precision and F-score are ill-defined and being set to 0.0 in labels with no predicted samples. Use `zero_division` parameter to control this behavior.\n",
      "  _warn_prf(average, modifier, msg_start, len(result))\n",
      "/Users/aquiba/opt/anaconda3/envs/dev/lib/python3.7/site-packages/sklearn/metrics/_classification.py:1248: UndefinedMetricWarning: Precision and F-score are ill-defined and being set to 0.0 in labels with no predicted samples. Use `zero_division` parameter to control this behavior.\n",
      "  _warn_prf(average, modifier, msg_start, len(result))\n",
      "/Users/aquiba/opt/anaconda3/envs/dev/lib/python3.7/site-packages/sklearn/metrics/_classification.py:1248: UndefinedMetricWarning: Precision and F-score are ill-defined and being set to 0.0 in labels with no predicted samples. Use `zero_division` parameter to control this behavior.\n",
      "  _warn_prf(average, modifier, msg_start, len(result))\n"
     ]
    }
   ],
   "source": [
    "# Print classification report\n",
    "svm_later_report = classification_report(y_test_later, svm_pred_later)\n",
    "print(svm_later_report)"
   ]
  },
  {
   "cell_type": "markdown",
   "metadata": {},
   "source": [
    "### Step 3: Choose the set of parameters that best improved the trading algorithm returns. \n",
    "\n",
    "Save a PNG image of the cumulative product of the actual returns vs. the strategy returns, and document your conclusion in your `README.md` file."
   ]
  },
  {
   "cell_type": "code",
   "execution_count": 92,
   "metadata": {},
   "outputs": [
    {
     "data": {
      "image/png": "[encoded data removed]",
      "text/plain": "<Figure size 432x288 with 1 Axes>"
     },
     "metadata": {
      "needs_background": "light"
     },
     "output_type": "display_data"
    }
   ],
   "source": [
    "# Create a new DataFrame to hold the actual and predicted returns\n",
    "predictions_tuned_df = pd.DataFrame(index=X_test_tuned.index)\n",
    "\n",
    "# Add the tuned predicitions\n",
    "predictions_tuned_df['Predictions'] = svm_pred_tuned\n",
    "\n",
    "# Add the Actual results\n",
    "predictions_tuned_df['Actual Returns'] = signals_df['Actual Returns']\n",
    "\n",
    "# Add the tuned strategy returns\n",
    "predictions_tuned_df['Strategy Returns'] = predictions_tuned_df['Actual Returns'] * predictions_tuned_df['Predictions'].shift()\n",
    "\n",
    "# Plot the cumulative returns of the Actual vs. Strategy Returns\n",
    "(1 + predictions_tuned_df[['Actual Returns', 'Strategy Returns']]).cumprod().plot()\n",
    "plt.savefig('Tuned_actual_strategy_cumreturns.png')"
   ]
  },
  {
   "cell_type": "markdown",
   "metadata": {},
   "source": [
    "---\n",
    "\n",
    "## Evaluate a New Machine Learning Classifier\n",
    "\n",
    "In this section, you’ll use the original parameters that the starter code provided. But, you’ll apply them to the performance of a second machine learning model. "
   ]
  },
  {
   "cell_type": "markdown",
   "metadata": {},
   "source": [
    "### Step 1:  Import a new classifier, such as `AdaBoost`, `DecisionTreeClassifier`, or `LogisticRegression`. (For the full list of classifiers, refer to the [Supervised learning page](https://scikit-learn.org/stable/supervised_learning.html) in the scikit-learn documentation.)"
   ]
  },
  {
   "cell_type": "code",
   "execution_count": null,
   "metadata": {},
   "outputs": [],
   "source": [
    "# Import a new classifier from SKLearn\n",
    "# YOUR CODE HERE\n",
    "\n",
    "# Initiate the model instance\n",
    "# YOUR CODE HERE\n"
   ]
  },
  {
   "cell_type": "markdown",
   "metadata": {},
   "source": [
    "### Step 2: Using the original training data as the baseline model, fit another model with the new classifier."
   ]
  },
  {
   "cell_type": "code",
   "execution_count": null,
   "metadata": {},
   "outputs": [],
   "source": [
    "# Fit the model using the training data\n",
    "model = # YOUR CODE HERE\n",
    "\n",
    "# Use the testing dataset to generate the predictions for the new model\n",
    "pred = # YOUR CODE HERE\n",
    "\n",
    "# Review the model's predicted values\n",
    "# YOUR CODE HERE\n"
   ]
  },
  {
   "cell_type": "markdown",
   "metadata": {},
   "source": [
    "### Step 3: Backtest the new model to evaluate its performance. \n",
    "\n",
    "Save a PNG image of the cumulative product of the actual returns vs. the strategy returns for this updated trading algorithm, and write your conclusions in your `README.md` file. \n",
    "\n",
    "Answer the following questions: \n",
    "Did this new model perform better or worse than the provided baseline model? \n",
    "Did this new model perform better or worse than your tuned trading algorithm?"
   ]
  },
  {
   "cell_type": "code",
   "execution_count": null,
   "metadata": {},
   "outputs": [],
   "source": [
    "# Use a classification report to evaluate the model using the predictions and testing data\n",
    "# YOUR CODE HERE\n",
    "\n",
    "# Print the classification report\n",
    "# YOUR CODE HERE\n"
   ]
  },
  {
   "cell_type": "code",
   "execution_count": null,
   "metadata": {},
   "outputs": [],
   "source": [
    "# Create a new empty predictions DataFrame.\n",
    "\n",
    "# Create a predictions DataFrame\n",
    "# YOUR CODE HERE\n",
    "\n",
    "# Add the SVM model predictions to the DataFrame\n",
    "# YOUR CODE HERE\n",
    "\n",
    "# Add the actual returns to the DataFrame\n",
    "# YOUR CODE HERE\n",
    "\n",
    "# Add the strategy returns to the DataFrame\n",
    "# YOUR CODE HERE\n",
    "\n",
    "# Review the DataFrame\n",
    "# YOUR CODE HERE\n"
   ]
  },
  {
   "cell_type": "code",
   "execution_count": null,
   "metadata": {},
   "outputs": [],
   "source": [
    "# Plot the actual returns versus the strategy returns\n",
    "# YOUR CODE HERE"
   ]
  },
  {
   "cell_type": "code",
   "execution_count": null,
   "metadata": {},
   "outputs": [],
   "source": []
  }
 ],
 "metadata": {
  "kernelspec": {
   "display_name": "Python 3.7.10 64-bit ('dev': conda)",
   "name": "dev"
  },
  "language_info": {
   "codemirror_mode": {
    "name": "ipython",
    "version": 3
   },
   "file_extension": ".py",
   "mimetype": "text/x-python",
   "name": "python",
   "nbconvert_exporter": "python",
   "pygments_lexer": "ipython3",
   "version": "3.7.10"
  }
 },
 "nbformat": 4,
 "nbformat_minor": 4
}